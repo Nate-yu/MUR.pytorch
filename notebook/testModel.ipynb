{
 "cells": [
  {
   "cell_type": "code",
   "id": "initial_id",
   "metadata": {
    "collapsed": true
   },
   "source": [
    "import torch\n",
    "import torch.nn as nn\n",
    "import torchvision.models as models\n",
    "from torch.optim import optimizer\n",
    "\n",
    "# 使用预训练的ResNet50模型\n",
    "model = models.resnet50(pretrained=True)\n",
    "\n",
    "# 输入图像（batch_size, channels, height, width）\n",
    "input_image = torch.randn(1, 3, 224, 224)\n",
    "# print(input_image)\n",
    "\n",
    "# 获取模型的最后一层全连接层的输出（特征向量）\n",
    "with torch.no_grad():\n",
    "    features = model(input_image)\n",
    "\n",
    "print(features.shape)  # 输出: torch.Size([1, 1000])\n",
    "# 在这个例子中，特征向量的长度是1000，因为ResNet50的最后一层有1000个输出单元，对应于1000个分类标签"
   ],
   "outputs": [],
   "execution_count": null
  },
  {
   "metadata": {},
   "cell_type": "code",
   "source": [
    "import torch.nn.functional as F\n",
    "class SimpleCNN(nn.Module):\n",
    "    def __init__(self):\n",
    "        super(SimpleCNN, self).__init__()\n",
    "        self.conv1 = nn.Conv2d(in_channels=3, out_channels=16, kernel_size=3, stride=1, padding=1)\n",
    "        self.pool = nn.MaxPool2d(kernel_size=2, stride=2, padding=0)\n",
    "        self.conv2 = nn.Conv2d(in_channels=16, out_channels=32, kernel_size=3, stride=1, padding=1)\n",
    "\n",
    "    def forward(self, x):\n",
    "        x = self.pool(F.relu(self.conv1(x)))  # 输出第一个特征图\n",
    "        x = self.pool(F.relu(self.conv2(x)))  # 输出第二个特征图\n",
    "        return x\n",
    "\n",
    "model = SimpleCNN()\n",
    "print(model)\n",
    "\n",
    "# 输入图像（batch_size, channels, height, width）\n",
    "input_image = torch.randn(1, 3, 32, 32)\n",
    "\n",
    "# 获取卷积层输出的特征图\n",
    "with torch.no_grad():\n",
    "    feature_map = model(input_image)\n",
    "\n",
    "print(feature_map.shape)  # 输出: torch.Size([1, 32, 8, 8])"
   ],
   "id": "e540da86900d7e2",
   "outputs": [],
   "execution_count": null
  },
  {
   "metadata": {},
   "cell_type": "code",
   "source": [
    "import numpy as np\n",
    "import torch\n",
    "from torch import nn\n",
    "from torch.nn import init\n",
    "\n",
    "class ExternalAttention(nn.Module):\n",
    "\n",
    "    def __init__(self, d_model,S=64):\n",
    "        super().__init__()\n",
    "        self.mk=nn.Linear(d_model,S,bias=False)\n",
    "        self.mv=nn.Linear(S,d_model,bias=False)\n",
    "        self.softmax=nn.Softmax(dim=1)\n",
    "        self.init_weights()\n",
    "\n",
    "\n",
    "    def init_weights(self):\n",
    "        for m in self.modules():\n",
    "            if isinstance(m, nn.Conv2d):\n",
    "                init.kaiming_normal_(m.weight, mode='fan_out')\n",
    "                if m.bias is not None:\n",
    "                    init.constant_(m.bias, 0)\n",
    "            elif isinstance(m, nn.BatchNorm2d):\n",
    "                init.constant_(m.weight, 1)\n",
    "                init.constant_(m.bias, 0)\n",
    "            elif isinstance(m, nn.Linear):\n",
    "                init.normal_(m.weight, std=0.001)\n",
    "                if m.bias is not None:\n",
    "                    init.constant_(m.bias, 0)\n",
    "\n",
    "    def forward(self, queries):\n",
    "        attn=self.mk(queries) #bs,n,S\n",
    "        attn=self.softmax(attn) #bs,n,S\n",
    "        attn=attn/torch.sum(attn,dim=2,keepdim=True) #bs,n,S\n",
    "        out=self.mv(attn) #bs,n,d_model\n",
    "\n",
    "        return out\n",
    "\n",
    "\n",
    "if __name__ == '__main__':\n",
    "    input=torch.randn(50,49,512)\n",
    "    ea = ExternalAttention(d_model=512,S=8)\n",
    "    output=ea(input)\n",
    "    print(output.shape)\n",
    "\n"
   ],
   "id": "317cd79c15a826e7",
   "outputs": [],
   "execution_count": null
  },
  {
   "metadata": {},
   "cell_type": "code",
   "source": [
    "from models.attention_modules.self_attention import AttentionModule\n",
    "model = AttentionModule(feature_size=512,text_feature_size=512, num_heads=8)\n",
    "print(model)"
   ],
   "id": "298353be4be42a3b",
   "outputs": [],
   "execution_count": null
  },
  {
   "metadata": {},
   "cell_type": "code",
   "source": [
    "import torch\n",
    "import torch.nn as nn\n",
    "from transformers import RobertaModel, RobertaTokenizer\n"
   ],
   "id": "8587c43e147b1c4",
   "outputs": [],
   "execution_count": null
  },
  {
   "metadata": {},
   "cell_type": "code",
   "source": [
    "# 一个简单的RoBERTa模型\n",
    "class SimpleRoBERTa(nn.Module):\n",
    "    def __init__(self, pretrained_model_name='roberta-base'):\n",
    "        super(SimpleRoBERTa, self).__init__()\n",
    "        self.roberta = RobertaModel.from_pretrained(pretrained_model_name)\n",
    "\n",
    "    def forward(self, input_ids, attention_mask):\n",
    "        outputs = self.roberta(input_ids, attention_mask)\n",
    "        return outputs\n"
   ],
   "id": "6ae089f15479940c",
   "outputs": [],
   "execution_count": null
  },
  {
   "metadata": {},
   "cell_type": "code",
   "source": [
    "# 定义一个用于文本编码的RoBERTaTokenizer\n",
    "tokenizer = RobertaTokenizer.from_pretrained('roberta-base')\n"
   ],
   "id": "865bd130e54d5882",
   "outputs": [],
   "execution_count": null
  },
  {
   "metadata": {},
   "cell_type": "code",
   "source": [
    "# 现在，我们可以使用这个简单的RoBERTa模型来对文本进行编码了：\n",
    "# 输入文本\n",
    "text = \"I love natural language processing!\"\n",
    "\n",
    "# 使用tokenizer将文本转换为模型所需的输入格式\n",
    "input_ids = tokenizer.encode(text, add_special_tokens=True, return_tensors='pt')\n",
    "attention_mask = torch.ones_like(input_ids)\n",
    "\n",
    "# 实例化和加载模型\n",
    "model = SimpleRoBERTa()\n",
    "outputs = model(input_ids, attention_mask)\n",
    "\n",
    "# 输出编码结果\n",
    "print(outputs.size())\n"
   ],
   "id": "cef064c7453eb105",
   "outputs": [],
   "execution_count": null
  },
  {
   "metadata": {},
   "cell_type": "code",
   "source": [
    "import torch\n",
    "from transformers import RobertaModel, RobertaTokenizer\n",
    "\n",
    "# 加载 RoBERTa 模型和分词器\n",
    "model = RobertaModel.from_pretrained('roberta-base')\n",
    "tokenizer = RobertaTokenizer.from_pretrained('roberta-base')\n",
    "\n",
    "# 输入文本\n",
    "text = \"Hello, how are you?\"\n",
    "\n",
    "# 使用分词器对文本进行编码\n",
    "inputs = tokenizer(text, return_tensors=\"pt\")\n",
    "\n",
    "# 传递输入到模型中进行推断\n",
    "outputs = model(**inputs)\n",
    "\n",
    "# 打印输出张量的形状\n",
    "print(\"Last hidden state shape:\", outputs.last_hidden_state.shape)\n",
    "print(\"Pooler output shape:\", outputs.pooler_output.shape)\n"
   ],
   "id": "b0aee913a168ae3e",
   "outputs": [],
   "execution_count": null
  },
  {
   "metadata": {},
   "cell_type": "code",
   "source": [
    "from torchvision.models import resnet18, resnet50\n",
    "model = resnet50(pretrained=True)\n",
    "print(model)"
   ],
   "id": "9587fe7579d66c50",
   "outputs": [],
   "execution_count": null
  },
  {
   "metadata": {},
   "cell_type": "code",
   "source": [
    "import torch\n",
    "from torch import nn\n",
    "\n",
    "class eca_layer(nn.Module):\n",
    "    \"\"\"Constructs a ECA module.\n",
    "\n",
    "    Args:\n",
    "        channel: Number of channels of the input feature map\n",
    "        k_size: Adaptive selection of kernel size\n",
    "    \"\"\"\n",
    "    def __init__(self, channel, k_size=3):\n",
    "        super(eca_layer, self).__init__()\n",
    "        self.avg_pool = nn.AdaptiveAvgPool2d(1)\n",
    "        self.conv = nn.Conv1d(1, 1, kernel_size=k_size, padding=(k_size - 1) // 2, bias=False) \n",
    "        self.sigmoid = nn.Sigmoid()\n",
    "\n",
    "    def forward(self, x):\n",
    "        # feature descriptor on the global spatial information\n",
    "        y = self.avg_pool(x)\n",
    "\n",
    "        # Two different branches of ECA module\n",
    "        y = self.conv(y.squeeze(-1).transpose(-1, -2)).transpose(-1, -2).unsqueeze(-1)\n",
    "\n",
    "        # Multi-scale information fusion\n",
    "        y = self.sigmoid(y)\n",
    "\n",
    "        return x * y.expand_as(x)\n",
    "        "
   ],
   "id": "cdda07314788335",
   "outputs": [],
   "execution_count": null
  },
  {
   "metadata": {},
   "cell_type": "code",
   "source": [
    "from models.attention_modules.self_attention import AttentionModule, SelfAttentionMap, GlobalCrossAttentionMap\n",
    "model = AttentionModule(512,512,2)\n",
    "print(model)"
   ],
   "id": "d2ab4b1d43e6f6f4",
   "outputs": [],
   "execution_count": null
  },
  {
   "metadata": {},
   "cell_type": "code",
   "source": [
    "compositor_object1=1\n",
    "compositor_object2=13\n",
    "\n",
    "text_encoder_object=2\n",
    "lower_img_encoder_object=2\n",
    "upper_img_encoder_object=2\n",
    "\n",
    "compositors = {\n",
    "    'compositor1': compositor_object1,\n",
    "    'compositor2': compositor_object2,\n",
    "}\n",
    "\n",
    "models = {\n",
    "    'text_encoder': text_encoder_object,\n",
    "    'lower_image_encoder': lower_img_encoder_object,\n",
    "    'upper_image_encoder': upper_img_encoder_object,\n",
    "}\n",
    "models"
   ],
   "id": "74cfa71396068c04",
   "outputs": [],
   "execution_count": null
  },
  {
   "metadata": {},
   "cell_type": "code",
   "source": [
    "models.update(compositors)\n",
    "print(models)"
   ],
   "id": "254ea067b0ec86a",
   "outputs": [],
   "execution_count": null
  },
  {
   "metadata": {},
   "cell_type": "code",
   "source": [
    "from models.compositors.global_style_models import GlobalStyleTransformer2\n",
    "from models.compositors.transformers import DisentangledTransformer\n",
    "\n",
    "\n",
    "def global_styler_factory(code, feature_size, text_feature_size):\n",
    "    if code == GlobalStyleTransformer2.code():\n",
    "        return GlobalStyleTransformer2(feature_size, text_feature_size)\n",
    "    else:\n",
    "        raise ValueError(\"{} not exists\".format(code))\n",
    "\n",
    "\n",
    "def transformer_factory(feature_sizes, configs):\n",
    "    text_feature_size = feature_sizes['text_feature_size']\n",
    "    num_heads = configs['num_heads']\n",
    "\n",
    "    global_styler_code = configs['global_styler']\n",
    "    global_styler = global_styler_factory(global_styler_code, feature_sizes['layer4'], text_feature_size)\n",
    "    return {'layer4': DisentangledTransformer(feature_sizes['layer4'], text_feature_size, num_heads=num_heads,\n",
    "                                              global_styler=global_styler)}\n"
   ],
   "id": "45ae897eca8b64f5",
   "outputs": [],
   "execution_count": null
  },
  {
   "metadata": {
    "ExecuteTime": {
     "end_time": "2024-07-06T01:57:13.307735Z",
     "start_time": "2024-07-06T01:57:13.286680Z"
    }
   },
   "cell_type": "code",
   "source": [
    "from models.compositors import transformer_factory\n",
    "from models.image_encoders import image_encoder_factory\n",
    "from models.text_encoders import text_encoder_factory\n",
    "from language import vocabulary_factory\n",
    "from data.shoes import ShoesDataset\n",
    "DEFAULT_VOCAB_PATHS = {\n",
    "    **dict.fromkeys(ShoesDataset.all_codes(), ShoesDataset.vocab_path()),\n",
    "}\n",
    "DEFAULT_VOCAB_PATHS"
   ],
   "id": "503a4bbac005a3b8",
   "outputs": [
    {
     "data": {
      "text/plain": [
       "{'shoes': './data/shoes/shoes_vocab.pkl'}"
      ]
     },
     "execution_count": 3,
     "metadata": {},
     "output_type": "execute_result"
    }
   ],
   "execution_count": 3
  },
  {
   "metadata": {
    "ExecuteTime": {
     "end_time": "2024-07-06T02:26:02.181983Z",
     "start_time": "2024-07-06T02:26:02.173864Z"
    }
   },
   "cell_type": "code",
   "source": [
    "configs = {\n",
    "    'alpha_scale': 1,\n",
    "    'augmenter': 'normal_gaussian',\n",
    "    'batch_size': 24,\n",
    "    'beta_scale': 1,\n",
    "    'checkpoint_path': './ckpt',\n",
    "    'compositor': 'transformer',\n",
    "    'config_path': 'configs/shoes_config.json',\n",
    "    'dataset': 'shoes',\n",
    "    'decay_step': 35,\n",
    "    'decay_step_second': 42,\n",
    "    'device_idx': '0',\n",
    "    'epoch': 1,\n",
    "    'evaluator': 'simple',\n",
    "    'experiment_description': 'bert',\n",
    "    'experiment_dir': 'experiments',\n",
    "    'export_root': 'experiments\\\\bert_2024-07-06_0',\n",
    "    'feature_size': 512,\n",
    "    'gamma': 0.1,\n",
    "    'gamma_scale': 1,\n",
    "    'global_styler': 'global2',\n",
    "    'heads': 12,\n",
    "    'image_encoder': 'resnet50_layer4',\n",
    "    'img_size': 224,\n",
    "    'layers': 12,\n",
    "    'lr': 0.0001,\n",
    "    'lr_scheduler': 'MultiStepWithWarmup',\n",
    "    'lstm_hidden_size': 512,\n",
    "    'margin': 12,\n",
    "    'metric_loss': 'batch_based_aleatoric_loss',\n",
    "    'momentum': 0.9,\n",
    "    'norm_scale': 4,\n",
    "    'num_gpu': 1,\n",
    "    'num_heads': 8,\n",
    "    'num_workers': 0,\n",
    "    'optimizer': 'RAdam',\n",
    "    'output_dim': 512,\n",
    "    'patch_size': 16,\n",
    "    'random_seed': 13877,\n",
    "    'selector': 'all',\n",
    "    'shuffle': True,\n",
    "    'stride': True,\n",
    "    'stride_size': 16,\n",
    "    'text_encoder': 'roberta',\n",
    "    'text_feature_size': 512,\n",
    "    'topk': '1,5,10,50',\n",
    "    'trainer': 'tirg',\n",
    "    'use_transform': True,\n",
    "    'vocab_path': '../data/shoes/shoes_vocab.pkl',\n",
    "    'vocab_threshold': 0,\n",
    "    'wandb_account_name': 'yubin06',\n",
    "    'wandb_project_name': 'UR',\n",
    "    'warmup_iters': 5,\n",
    "    'weight_decay': 5e-05,\n",
    "    'width': 768,\n",
    "    'word_embedding_size': 512\n",
    "}\n",
    "vocabulary = vocabulary_factory(config={\n",
    "    'vocab_path': configs['vocab_path'] if configs['vocab_path'] else DEFAULT_VOCAB_PATHS[configs['dataset']],\n",
    "    'vocab_threshold': configs['vocab_threshold']\n",
    "})\n",
    "print(vocabulary)"
   ],
   "id": "d0f57217d7aa3531",
   "outputs": [
    {
     "name": "stdout",
     "output_type": "stream",
     "text": [
      "<language.vocabulary.SimpleVocabulary object at 0x00000220D8EFF370>\n"
     ]
    }
   ],
   "execution_count": 21
  },
  {
   "metadata": {
    "ExecuteTime": {
     "end_time": "2024-07-06T02:26:16.700725Z",
     "start_time": "2024-07-06T02:26:02.717731Z"
    }
   },
   "cell_type": "code",
   "source": [
    "text_encoder, text_fc = text_encoder_factory(vocabulary, config=configs)\n",
    "lower_img_encoder, upper_img_encoder = image_encoder_factory(config=configs)\n",
    "layer_shapes = lower_img_encoder.layer_shapes()\n",
    "compositors = transformer_factory({'layer4': layer_shapes['layer4'],\n",
    "                                       'image_feature_size': upper_img_encoder.feature_size,\n",
    "                                       'text_feature_size': text_encoder.feature_size}, configs=configs)"
   ],
   "id": "1d33da9b36f5cf94",
   "outputs": [
    {
     "name": "stderr",
     "output_type": "stream",
     "text": [
      "Some weights of RobertaModel were not initialized from the model checkpoint at roberta-base and are newly initialized: ['roberta.pooler.dense.bias', 'roberta.pooler.dense.weight']\n",
      "You should probably TRAIN this model on a down-stream task to be able to use it for predictions and inference.\n"
     ]
    }
   ],
   "execution_count": 22
  },
  {
   "metadata": {
    "ExecuteTime": {
     "end_time": "2024-07-06T02:26:19.166149Z",
     "start_time": "2024-07-06T02:26:19.156494Z"
    }
   },
   "cell_type": "code",
   "source": "print(compositors)",
   "id": "9456e274c81ef602",
   "outputs": [
    {
     "name": "stdout",
     "output_type": "stream",
     "text": [
      "{'layer4': DisentangledTransformer(\n",
      "  (att_module): AttentionModule(\n",
      "    (gam_attention): GAM_Attention(\n",
      "      (channel_attention): Sequential(\n",
      "        (0): Linear(in_features=2048, out_features=512, bias=True)\n",
      "        (1): ReLU(inplace=True)\n",
      "        (2): Linear(in_features=512, out_features=2048, bias=True)\n",
      "      )\n",
      "      (spatial_attention): Sequential(\n",
      "        (0): Conv2d(2048, 512, kernel_size=(7, 7), stride=(1, 1), padding=(3, 3))\n",
      "        (1): BatchNorm2d(512, eps=1e-05, momentum=0.1, affine=True, track_running_stats=True)\n",
      "        (2): ReLU(inplace=True)\n",
      "        (3): Conv2d(512, 2048, kernel_size=(7, 7), stride=(1, 1), padding=(3, 3))\n",
      "        (4): BatchNorm2d(2048, eps=1e-05, momentum=0.1, affine=True, track_running_stats=True)\n",
      "      )\n",
      "    )\n",
      "    (self_att_generator): SelfAttentionMap(\n",
      "      (W_k): Conv2d(2048, 2048, kernel_size=(1, 1), stride=(1, 1), bias=False)\n",
      "      (W_q): Conv2d(2048, 2048, kernel_size=(1, 1), stride=(1, 1), bias=False)\n",
      "      (softmax): Softmax(dim=2)\n",
      "    )\n",
      "    (global_att_generator): GlobalCrossAttentionMap(\n",
      "      (W_t): Linear(in_features=512, out_features=2048, bias=True)\n",
      "      (normalize): Softmax(dim=1)\n",
      "    )\n",
      "    (merge): Conv2d(2560, 2048, kernel_size=(1, 1), stride=(1, 1), bias=False)\n",
      "    (W_v): Conv2d(2048, 2048, kernel_size=(1, 1), stride=(1, 1), bias=False)\n",
      "    (W_r): Conv2d(2048, 2048, kernel_size=(1, 1), stride=(1, 1))\n",
      "  )\n",
      "  (att_module2): AttentionModule(\n",
      "    (gam_attention): GAM_Attention(\n",
      "      (channel_attention): Sequential(\n",
      "        (0): Linear(in_features=2048, out_features=512, bias=True)\n",
      "        (1): ReLU(inplace=True)\n",
      "        (2): Linear(in_features=512, out_features=2048, bias=True)\n",
      "      )\n",
      "      (spatial_attention): Sequential(\n",
      "        (0): Conv2d(2048, 512, kernel_size=(7, 7), stride=(1, 1), padding=(3, 3))\n",
      "        (1): BatchNorm2d(512, eps=1e-05, momentum=0.1, affine=True, track_running_stats=True)\n",
      "        (2): ReLU(inplace=True)\n",
      "        (3): Conv2d(512, 2048, kernel_size=(7, 7), stride=(1, 1), padding=(3, 3))\n",
      "        (4): BatchNorm2d(2048, eps=1e-05, momentum=0.1, affine=True, track_running_stats=True)\n",
      "      )\n",
      "    )\n",
      "    (self_att_generator): SelfAttentionMap(\n",
      "      (W_k): Conv2d(2048, 2048, kernel_size=(1, 1), stride=(1, 1), bias=False)\n",
      "      (W_q): Conv2d(2048, 2048, kernel_size=(1, 1), stride=(1, 1), bias=False)\n",
      "      (softmax): Softmax(dim=2)\n",
      "    )\n",
      "    (global_att_generator): GlobalCrossAttentionMap(\n",
      "      (W_t): Linear(in_features=512, out_features=2048, bias=True)\n",
      "      (normalize): Softmax(dim=1)\n",
      "    )\n",
      "    (merge): Conv2d(2560, 2048, kernel_size=(1, 1), stride=(1, 1), bias=False)\n",
      "    (W_v): Conv2d(2048, 2048, kernel_size=(1, 1), stride=(1, 1), bias=False)\n",
      "    (W_r): Conv2d(2048, 2048, kernel_size=(1, 1), stride=(1, 1))\n",
      "  )\n",
      "  (global_styler): GlobalStyleTransformer2(\n",
      "    (global_transform): EqualLinear(\n",
      "      (linear): Linear(in_features=512, out_features=4096, bias=True)\n",
      "    )\n",
      "    (gate): EqualLinear(\n",
      "      (linear): Linear(in_features=512, out_features=4096, bias=True)\n",
      "    )\n",
      "    (sigmoid): Sigmoid()\n",
      "  )\n",
      "  (instance_norm): InstanceNorm2d(2048, eps=1e-05, momentum=0.1, affine=False, track_running_stats=False)\n",
      ")}\n"
     ]
    }
   ],
   "execution_count": 23
  },
  {
   "metadata": {},
   "cell_type": "markdown",
   "source": "# EMMA",
   "id": "b697282bf6f461b4"
  },
  {
   "metadata": {
    "ExecuteTime": {
     "end_time": "2024-07-09T07:14:41.975376Z",
     "start_time": "2024-07-09T07:14:40.086660Z"
    }
   },
   "cell_type": "code",
   "source": [
    "import torch\n",
    "import torch.nn as nn\n",
    "import numpy as np\n",
    "import torch.nn.functional as F\n",
    "from einops import rearrange\n",
    "import numbers"
   ],
   "id": "76f1b77d86ec4012",
   "outputs": [],
   "execution_count": 2
  },
  {
   "metadata": {},
   "cell_type": "markdown",
   "source": "## 维度转换",
   "id": "5f38573d7606dee7"
  },
  {
   "metadata": {
    "ExecuteTime": {
     "end_time": "2024-07-08T08:01:21.070956Z",
     "start_time": "2024-07-08T08:01:21.052862Z"
    }
   },
   "cell_type": "code",
   "source": [
    "def to_3d(x):\n",
    "    return rearrange(x, 'b c h w -> b (h w) c')\n",
    "def to_4d(x, h, w):\n",
    "    return rearrange(x, 'b (h w) c -> b c h w', h=h, w=w)"
   ],
   "id": "df4f62b69df41aeb",
   "outputs": [],
   "execution_count": 16
  },
  {
   "metadata": {},
   "cell_type": "markdown",
   "source": "## 无偏置的层归一化",
   "id": "b57cac7026bfad8d"
  },
  {
   "metadata": {
    "ExecuteTime": {
     "end_time": "2024-07-08T08:01:24.401574Z",
     "start_time": "2024-07-08T08:01:24.396561Z"
    }
   },
   "cell_type": "code",
   "source": [
    "class BiasFree_LayerNorm(nn.Module):\n",
    "    def __init__(self, normalized_shape):\n",
    "        super(BiasFree_LayerNorm, self).__init__()\n",
    "        if isinstance(normalized_shape, numbers.Integral):\n",
    "            normalized_shape = (normalized_shape,)\n",
    "        normalized_shape = torch.Size(normalized_shape)\n",
    "\n",
    "        assert len(normalized_shape) == 1\n",
    "\n",
    "        self.weight = nn.Parameter(torch.ones(normalized_shape))\n",
    "        self.normalized_shape = normalized_shape\n",
    "\n",
    "    def forward(self, x):\n",
    "        sigma = x.var(-1, keepdim=True, unbiased=False)\n",
    "        return x / torch.sqrt(sigma + 1e-5) * self.weight"
   ],
   "id": "7678db5b852f484d",
   "outputs": [],
   "execution_count": 17
  },
  {
   "metadata": {},
   "cell_type": "markdown",
   "source": "### 使用",
   "id": "769c9dd44e41a639"
  },
  {
   "metadata": {
    "ExecuteTime": {
     "end_time": "2024-07-08T08:05:50.277199Z",
     "start_time": "2024-07-08T08:05:50.261157Z"
    }
   },
   "cell_type": "code",
   "source": [
    "# 定义一个简单的卷积神经网络\n",
    "class SimpleCNN(nn.Module):\n",
    "    def __init__(self):\n",
    "        super(SimpleCNN, self).__init__()\n",
    "        self.conv1 = nn.Conv2d(3, 16, kernel_size=3, padding=1)\n",
    "        self.norm1 = BiasFree_LayerNorm(16)\n",
    "        self.relu = nn.ReLU()\n",
    "        self.pool = nn.MaxPool2d(kernel_size=2, stride=2)\n",
    "        self.fc = nn.Linear(16 * 16 * 16, 10)  # 假设输出10类\n",
    "\n",
    "    def forward(self, x):\n",
    "        x = self.conv1(x)\n",
    "        batch_size, channels, height, width = x.shape\n",
    "        x = to_3d(x)\n",
    "        x = self.norm1(x)\n",
    "        x = to_4d(x, height, width)\n",
    "        x = self.relu(x)\n",
    "        x = self.pool(x)\n",
    "        x = x.view(batch_size, -1)  # 展平张量\n",
    "        x = self.fc(x)\n",
    "        return x"
   ],
   "id": "77b5ebcb9322ec9c",
   "outputs": [],
   "execution_count": 24
  },
  {
   "metadata": {
    "ExecuteTime": {
     "end_time": "2024-07-08T08:05:50.732786Z",
     "start_time": "2024-07-08T08:05:50.721682Z"
    }
   },
   "cell_type": "code",
   "source": [
    "model = SimpleCNN()\n",
    "inputs = torch.randn(1, 3, 32, 32)\n",
    "outputs = model(inputs)\n",
    "print(outputs.shape)\n",
    "# print(model)"
   ],
   "id": "d12873403578bb3c",
   "outputs": [
    {
     "name": "stdout",
     "output_type": "stream",
     "text": [
      "torch.Size([1, 10])\n"
     ]
    }
   ],
   "execution_count": 25
  },
  {
   "metadata": {
    "ExecuteTime": {
     "end_time": "2024-07-08T08:06:55.844774Z",
     "start_time": "2024-07-08T08:06:55.834732Z"
    }
   },
   "cell_type": "code",
   "source": [
    "# 测试代码\n",
    "model = SimpleCNN()\n",
    "criterion = nn.CrossEntropyLoss()\n",
    "\n",
    "# 输入图像张量，形状为 [batch_size, channels, height, width]\n",
    "inputs = torch.randn(1, 3, 32, 32)\n",
    "# 目标标签，形状为 [batch_size]\n",
    "labels = torch.tensor([3])  # 示例目标标签\n",
    "\n",
    "# 前向传播\n",
    "outputs = model(inputs)\n",
    "\n",
    "# 计算损失\n",
    "loss = criterion(outputs, labels)\n",
    "\n",
    "# 打印损失\n",
    "print(f'Loss: {loss.item()}')"
   ],
   "id": "9e0cd05bbda39404",
   "outputs": [
    {
     "name": "stdout",
     "output_type": "stream",
     "text": [
      "Loss: 2.4427390098571777\n"
     ]
    }
   ],
   "execution_count": 26
  },
  {
   "metadata": {},
   "cell_type": "markdown",
   "source": "## 有偏置的层归一化",
   "id": "27ad4fd35e4af826"
  },
  {
   "metadata": {
    "ExecuteTime": {
     "end_time": "2024-07-09T07:14:46.759903Z",
     "start_time": "2024-07-09T07:14:46.741796Z"
    }
   },
   "cell_type": "code",
   "source": [
    "class WithBias_LayerNorm(nn.Module):\n",
    "    def __init__(self, normalized_shape):\n",
    "        super(WithBias_LayerNorm, self).__init__()\n",
    "        if isinstance(normalized_shape, numbers.Integral):\n",
    "            normalized_shape = (normalized_shape,)\n",
    "        normalized_shape = torch.Size(normalized_shape)\n",
    "\n",
    "        assert len(normalized_shape) == 1\n",
    "\n",
    "        self.weight = nn.Parameter(torch.ones(normalized_shape))\n",
    "        self.bias = nn.Parameter(torch.zeros(normalized_shape))\n",
    "        self.normalized_shape = normalized_shape\n",
    "\n",
    "    def forward(self, x):\n",
    "        mu = x.mean(-1, keepdim=True)\n",
    "        sigma = x.var(-1, keepdim=True, unbiased=False)\n",
    "        return (x - mu) / torch.sqrt(sigma + 1e-5) * self.weight + self.bias"
   ],
   "id": "29a09208bb9b92c8",
   "outputs": [],
   "execution_count": 3
  },
  {
   "metadata": {},
   "cell_type": "markdown",
   "source": "## 层归一化",
   "id": "b3e82e715f74dcc6"
  },
  {
   "metadata": {
    "ExecuteTime": {
     "end_time": "2024-07-09T08:13:19.440412Z",
     "start_time": "2024-07-09T08:13:19.405606Z"
    }
   },
   "cell_type": "code",
   "source": [
    "class LayerNorm(nn.Module):\n",
    "    def __init__(self, dim, LayerNorm_type):\n",
    "        super(LayerNorm, self).__init__()\n",
    "        if LayerNorm_type == 'BiasFree':\n",
    "            self.body = BiasFree_LayerNorm(dim)\n",
    "        else:\n",
    "            self.body = WithBias_LayerNorm(dim)\n",
    "\n",
    "    def forward(self, x):\n",
    "        h, w = x.shape[-2:]\n",
    "        return to_4d(self.body(to_3d(x)), h, w)"
   ],
   "id": "4cec084461dfcb2e",
   "outputs": [],
   "execution_count": 4
  },
  {
   "metadata": {},
   "cell_type": "markdown",
   "source": "## 注意力模块",
   "id": "af28b10475eef19a"
  },
  {
   "metadata": {
    "ExecuteTime": {
     "end_time": "2024-07-09T08:38:26.189109Z",
     "start_time": "2024-07-09T08:38:26.175472Z"
    }
   },
   "cell_type": "code",
   "source": [
    "class AttentionBase(nn.Module):\n",
    "    def __init__(self, dim, num_heads=8, qkv_bias=False):\n",
    "        super(AttentionBase, self).__init__()\n",
    "        self.num_heads = num_heads\n",
    "        head_dim = dim // num_heads\n",
    "        self.scale = nn.Parameter(torch.ones(num_heads, 1, 1))\n",
    "        self.qkv1 = nn.Conv2d(3, dim, kernel_size=1, bias=qkv_bias)  # 将输入通道数从3转换为dim\n",
    "        self.qkv2 = nn.Conv2d(dim, dim * 3, kernel_size=1, bias=qkv_bias)\n",
    "        self.qkv3 = nn.Conv2d(dim * 3, dim * 3, kernel_size=3, padding=1, bias=qkv_bias)\n",
    "        self.proj = nn.Conv2d(dim, dim, kernel_size=1, bias=qkv_bias)\n",
    "\n",
    "    def forward(self, x):\n",
    "        b, c, h, w = x.shape\n",
    "        x = self.qkv1(x)  # 先将通道数转换为dim\n",
    "        qkv = self.qkv3(self.qkv2(x))\n",
    "        q, k, v = qkv.chunk(3, dim=1)\n",
    "        q = rearrange(q, 'b (head c) h w -> b head c (h w)', head=self.num_heads)\n",
    "        k = rearrange(k, 'b (head c) h w -> b head c (h w)', head=self.num_heads)\n",
    "        v = rearrange(v, 'b (head c) h w -> b head c (h w)', head=self.num_heads)\n",
    "        q = torch.nn.functional.normalize(q, dim=-1)\n",
    "        k = torch.nn.functional.normalize(k, dim=-1)\n",
    "        attn = (q @ k.transpose(-2, -1)) * self.scale\n",
    "        attn = attn.softmax(dim=-1)\n",
    "        out = (attn @ v)\n",
    "        out = rearrange(out, 'b head c (h w) -> b (head c) h w', head=self.num_heads, h=h, w=w)\n",
    "        out = self.proj(out)\n",
    "        return out,attn\n"
   ],
   "id": "94e375c4207d00e8",
   "outputs": [],
   "execution_count": 17
  },
  {
   "metadata": {},
   "cell_type": "markdown",
   "source": "### 使用",
   "id": "fe0f35764b9c045b"
  },
  {
   "metadata": {
    "ExecuteTime": {
     "end_time": "2024-07-09T08:38:26.987722Z",
     "start_time": "2024-07-09T08:38:26.963551Z"
    }
   },
   "cell_type": "code",
   "source": [
    "from PIL import Image\n",
    "from torchvision import transforms\n",
    "image_path = '../image/2.jpg'  # 替换为你的图片路径\n",
    "image = Image.open(image_path).convert('RGB')\n",
    "# 定义预处理步骤\n",
    "preprocess = transforms.Compose([\n",
    "    transforms.Resize((32, 32)),  # 调整大小为32x32\n",
    "    transforms.ToTensor(),  # 转换为张量\n",
    "    transforms.Normalize(mean=[0.485, 0.456, 0.406], std=[0.229, 0.224, 0.225]),  # 标准化\n",
    "])\n",
    "# 应用预处理\n",
    "input_tensor = preprocess(image).unsqueeze(0)  # 添加批次维度\n",
    "\n",
    "# 定义注意力模块\n",
    "attention_layer = AttentionBase(dim=64, num_heads=8)\n",
    "\n",
    "# 应用注意力模块\n",
    "output, attn_weights = attention_layer(input_tensor)\n"
   ],
   "id": "707de1a40a963bb9",
   "outputs": [],
   "execution_count": 18
  },
  {
   "metadata": {
    "ExecuteTime": {
     "end_time": "2024-07-09T08:45:14.552510Z",
     "start_time": "2024-07-09T08:45:14.398186Z"
    }
   },
   "cell_type": "code",
   "source": [
    "import matplotlib.pyplot as plt\n",
    "\n",
    "def visualize_tensor(tensor, title):\n",
    "    # 将张量转换为NumPy数组\n",
    "    np_img = tensor.squeeze().detach().cpu().numpy()\n",
    "    \n",
    "    # 转换为适合Matplotlib显示的格式\n",
    "    np_img = np.transpose(np_img, (1, 2, 0))\n",
    "    \n",
    "    # 取消标准化\n",
    "    np_img = np_img * np.array([0.229, 0.224, 0.225]) + np.array([0.485, 0.456, 0.406])\n",
    "    np_img = np.clip(np_img, 0, 1)\n",
    "\n",
    "    # 绘制图像\n",
    "    plt.imshow(np_img)\n",
    "    plt.title(title)\n",
    "    plt.axis('off')\n",
    "    plt.show()\n",
    "\n",
    "# 可视化输入图像\n",
    "visualize_tensor(input_tensor[0], title='Input Image')\n",
    "\n",
    "# 将输出张量转换为适合可视化的格式\n",
    "output_for_visualization = output.detach().cpu().squeeze(0)\n",
    "\n",
    "# 选择前3个通道进行可视化\n",
    "output_for_visualization = output_for_visualization[:3, :, :]\n",
    "\n",
    "# 取消标准化\n",
    "output_for_visualization = output_for_visualization.permute(1, 2, 0)  # 调整维度顺序\n",
    "output_for_visualization = (output_for_visualization - output_for_visualization.min()) / (output_for_visualization.max() - output_for_visualization.min())\n",
    "\n",
    "# 可视化输出图像\n",
    "plt.imshow(output_for_visualization)\n",
    "plt.title('Output Image')\n",
    "plt.axis('off')\n",
    "plt.show()\n"
   ],
   "id": "6735e2208bf3a63e",
   "outputs": [
    {
     "data": {
      "text/plain": [
       "<Figure size 640x480 with 1 Axes>"
      ],
      "image/png": "[encoded data removed]"
     },
     "metadata": {},
     "output_type": "display_data"
    },
    {
     "data": {
      "text/plain": [
       "<Figure size 640x480 with 1 Axes>"
      ],
      "image/png": "[encoded data removed]"
     },
     "metadata": {},
     "output_type": "display_data"
    }
   ],
   "execution_count": 25
  },
  {
   "metadata": {
    "ExecuteTime": {
     "end_time": "2024-07-09T08:47:49.605711Z",
     "start_time": "2024-07-09T08:47:49.529589Z"
    }
   },
   "cell_type": "code",
   "source": [
    "def visualize_attention(attn_weights):\n",
    "    # 将注意力权重转换为NumPy数组\n",
    "    attn_weights = attn_weights.squeeze().detach().cpu().numpy()\n",
    "    \n",
    "    # 对注意力权重进行平均，得到二维数组\n",
    "    avg_attn_weights = attn_weights.mean(axis=0)\n",
    "    \n",
    "    plt.imshow(avg_attn_weights, cmap='viridis')\n",
    "    plt.title('Attention Weights')\n",
    "    plt.axis('off')\n",
    "    plt.show()\n",
    "\n",
    "# 可视化注意力权重\n",
    "visualize_attention(attn_weights[0])\n"
   ],
   "id": "7493a9d1423464fa",
   "outputs": [
    {
     "data": {
      "text/plain": [
       "<Figure size 640x480 with 1 Axes>"
      ],
      "image/png": "[encoded data removed]"
     },
     "metadata": {},
     "output_type": "display_data"
    }
   ],
   "execution_count": 27
  },
  {
   "metadata": {},
   "cell_type": "markdown",
   "source": "## 全连接层",
   "id": "1aa8cabab43e3456"
  },
  {
   "metadata": {
    "ExecuteTime": {
     "end_time": "2024-07-09T09:27:46.560876Z",
     "start_time": "2024-07-09T09:27:46.542278Z"
    }
   },
   "cell_type": "code",
   "source": [
    "class Mlp(nn.Module):\n",
    "    \"\"\"\n",
    "    MLP用于Vision Transformer, MLP- mixer和相关网络\n",
    "    \"\"\"\n",
    "    def __init__(self,\n",
    "                 in_features,\n",
    "                 out_features,\n",
    "                 ffn_expansion_factor=2,\n",
    "                 bias=False):\n",
    "        super().__init__()\n",
    "        hidden_features = int(in_features * ffn_expansion_factor)\n",
    "\n",
    "        self.project_in = nn.Conv2d(\n",
    "            in_features, hidden_features * 2, kernel_size=1, bias=bias)\n",
    "\n",
    "        self.dwconv = nn.Conv2d(hidden_features * 2, hidden_features * 2, kernel_size=3,\n",
    "                                stride=1, padding=1, groups=hidden_features, bias=bias, padding_mode=\"reflect\")\n",
    "\n",
    "        self.project_out = nn.Conv2d(\n",
    "            hidden_features, out_features, kernel_size=1, bias=bias)\n",
    "\n",
    "    def forward(self, x):\n",
    "        x = self.project_in(x)\n",
    "        x1, x2 = self.dwconv(x).chunk(2, dim=1)\n",
    "        x = F.gelu(x1) * x2\n",
    "        x = self.project_out(x)\n",
    "        return x"
   ],
   "id": "f1dc47d5cdf750c8",
   "outputs": [],
   "execution_count": 28
  },
  {
   "metadata": {},
   "cell_type": "markdown",
   "source": "## 全局特征提取模块",
   "id": "1d8663b7422d4311"
  },
  {
   "metadata": {
    "ExecuteTime": {
     "end_time": "2024-07-10T07:50:19.996556Z",
     "start_time": "2024-07-10T07:50:18.000367Z"
    }
   },
   "cell_type": "code",
   "source": [
    "from models.compositors.emma_fuse import LayerNorm,AttentionBase,Mlp\n",
    "class GlobalFeatureExtraction(nn.Module):\n",
    "    def __init__(self, dim, num_heads, ffn_expansion_factor=1., qkv_bias=False):\n",
    "        super(GlobalFeatureExtraction, self).__init__()\n",
    "        self.norm1 = LayerNorm(dim, 'WithBias')\n",
    "        self.attn = AttentionBase(dim, num_heads=num_heads, qkv_bias=qkv_bias, )\n",
    "        self.norm2 = LayerNorm(dim, 'WithBias')\n",
    "        self.mlp = Mlp(in_features=dim, out_features=dim,\n",
    "                       ffn_expansion_factor=ffn_expansion_factor)\n",
    "\n",
    "    def forward(self, x):\n",
    "        x = x + self.attn(self.norm1(x))\n",
    "        x = x + self.mlp(self.norm2(x))\n",
    "        return x"
   ],
   "id": "be6d8eb142c89e3",
   "outputs": [],
   "execution_count": 7
  },
  {
   "metadata": {
    "ExecuteTime": {
     "end_time": "2024-07-09T13:18:10.924485Z",
     "start_time": "2024-07-09T13:18:10.757126Z"
    }
   },
   "cell_type": "code",
   "source": [
    "import torch\n",
    "import torch.nn as nn\n",
    "import matplotlib.pyplot as plt\n",
    "import numpy as np\n",
    "from einops import rearrange\n",
    "from models.compositors.emma_fuse import LayerNorm, AttentionBase, Mlp\n",
    "from torchvision import transforms\n",
    "from PIL import Image\n",
    "\n",
    "# 定义预处理步骤\n",
    "preprocess = transforms.Compose([\n",
    "    transforms.Resize((32, 32)),  # 调整大小为32x32\n",
    "    transforms.ToTensor(),  # 转换为张量\n",
    "    transforms.Normalize(mean=[0.485, 0.456, 0.406], std=[0.229, 0.224, 0.225]),  # 标准化\n",
    "])\n",
    "\n",
    "# 加载和预处理图像\n",
    "image_path = '../image/2.jpg'  # 替换为你的图片路径\n",
    "input_image = Image.open(image_path).convert('RGB')\n",
    "input_tensor = preprocess(input_image).unsqueeze(0)  # 转换为批量张量\n",
    "\n",
    "# 定义卷积层，将3通道RGB图像转换为64通道\n",
    "class RGBToFeatureMap(nn.Module):\n",
    "    def __init__(self, in_channels=3, out_channels=64):\n",
    "        super(RGBToFeatureMap, self).__init__()\n",
    "        self.conv = nn.Conv2d(in_channels, out_channels, kernel_size=3, stride=1, padding=1)\n",
    "\n",
    "    def forward(self, x):\n",
    "        return self.conv(x)\n",
    "\n",
    "# 将RGB图像转换为64通道特征图\n",
    "rgb_to_feature_map = RGBToFeatureMap(in_channels=3, out_channels=64)\n",
    "feature_tensor = rgb_to_feature_map(input_tensor)\n",
    "\n",
    "# 实例化GlobalFeatureExtraction模块\n",
    "dim = 64  # 输入的维度\n",
    "num_heads = 8  # 注意力头数\n",
    "module = GlobalFeatureExtraction(dim, num_heads)\n",
    "\n",
    "# 前向传播\n",
    "output = module(feature_tensor)\n",
    "\n",
    "# 反标准化步骤\n",
    "inv_normalize = transforms.Normalize(\n",
    "    mean=[-0.485 / 0.229, -0.456 / 0.224, -0.406 / 0.225],\n",
    "    std=[1 / 0.229, 1 / 0.224, 1 / 0.225]\n",
    ")\n",
    "\n",
    "# 可视化输入和输出张量\n",
    "def visualize_tensor(tensor, title=''):\n",
    "    tensor = tensor.squeeze().detach().cpu()\n",
    "    if tensor.shape[0] == 3:  # 处理三通道图像\n",
    "        tensor = inv_normalize(tensor)  # 反标准化\n",
    "        np_img = tensor.permute(1, 2, 0).numpy()\n",
    "    else:  # 处理单通道图像\n",
    "        np_img = tensor.numpy()\n",
    "        np_img = np_img[0]\n",
    "\n",
    "    # 将数据裁剪到有效范围内\n",
    "    np_img = np.clip(np_img, 0, 1)\n",
    "    \n",
    "    plt.imshow(np_img)\n",
    "    plt.title(title)\n",
    "    plt.axis('off')\n",
    "    plt.show()\n",
    "\n",
    "# 可视化输入图像\n",
    "visualize_tensor(input_tensor[0], title='Input Image')\n",
    "\n",
    "# 可视化输出图像\n",
    "visualize_tensor(output[0], title='Output Image')\n"
   ],
   "id": "2fa987f53d3d9ffe",
   "outputs": [
    {
     "data": {
      "text/plain": [
       "<Figure size 640x480 with 1 Axes>"
      ],
      "image/png": "[encoded data removed]"
     },
     "metadata": {},
     "output_type": "display_data"
    },
    {
     "data": {
      "text/plain": [
       "<Figure size 640x480 with 1 Axes>"
      ],
      "image/png": "[encoded data removed]"
     },
     "metadata": {},
     "output_type": "display_data"
    }
   ],
   "execution_count": 47
  },
  {
   "metadata": {},
   "cell_type": "markdown",
   "source": "## 残差块",
   "id": "a5b8dc0e54eec2bd"
  },
  {
   "metadata": {
    "ExecuteTime": {
     "end_time": "2024-07-10T07:18:35.877400Z",
     "start_time": "2024-07-10T07:18:34.057665Z"
    }
   },
   "cell_type": "code",
   "source": [
    "import torch\n",
    "import torch.nn as nn\n",
    "import numpy as np\n",
    "import torch.nn.functional as F\n",
    "from einops import rearrange\n",
    "import numbers\n",
    "class ResBlock(nn.Module):\n",
    "    def __init__(self, in_channels, out_channels):\n",
    "        super(ResBlock, self).__init__()\n",
    "        self.conv = nn.Sequential(\n",
    "            nn.Conv2d(in_channels, out_channels, kernel_size=3, stride=1, padding=1, bias=True, padding_mode=\"reflect\"),\n",
    "            nn.ReLU(),\n",
    "            nn.Conv2d(out_channels, out_channels, kernel_size=3, stride=1, padding=1, bias=True, padding_mode=\"reflect\"),\n",
    "        )\n",
    "\n",
    "    def forward(self, x):\n",
    "        out = self.conv(x)\n",
    "        return out + x"
   ],
   "id": "28f40fbee74f5c0b",
   "outputs": [],
   "execution_count": 2
  },
  {
   "metadata": {},
   "cell_type": "markdown",
   "source": "## 局部特征提取模块",
   "id": "a41315f3d1f59ab0"
  },
  {
   "metadata": {
    "ExecuteTime": {
     "end_time": "2024-07-10T07:19:34.368180Z",
     "start_time": "2024-07-10T07:19:34.356990Z"
    }
   },
   "cell_type": "code",
   "source": [
    "class LocalFeatureExtraction(nn.Module):\n",
    "    def __init__(self, dim=64, num_blocks=2):\n",
    "        super(LocalFeatureExtraction, self).__init__()\n",
    "        self.Extraction = nn.Sequential(*[ResBlock(dim, dim) for i in range(num_blocks)])\n",
    "\n",
    "    def forward(self, x):\n",
    "        return self.Extraction(x)"
   ],
   "id": "9d7a092cfc06902f",
   "outputs": [],
   "execution_count": 3
  },
  {
   "metadata": {
    "ExecuteTime": {
     "end_time": "2024-07-10T07:26:47.896406Z",
     "start_time": "2024-07-10T07:26:47.836244Z"
    }
   },
   "cell_type": "code",
   "source": [
    "import torch\n",
    "import torch.nn as nn\n",
    "\n",
    "# 定义输入张量，形状为 (batch_size, channels, height, width)\n",
    "input_tensor = torch.randn(1, 64, 32, 32)  # 假设输入是一个 32x32 的图像，具有 64 个通道\n",
    "\n",
    "# 实例化 LocalFeatureExtraction 模块\n",
    "local_feature_extraction = LocalFeatureExtraction(dim=64, num_blocks=2)\n",
    "\n",
    "# 前向传播\n",
    "output_tensor = local_feature_extraction(input_tensor)\n",
    "\n",
    "print(output_tensor.shape)  # 输出张量的形状\n"
   ],
   "id": "43cc2c76e8442114",
   "outputs": [
    {
     "name": "stdout",
     "output_type": "stream",
     "text": [
      "torch.Size([1, 64, 32, 32])\n"
     ]
    }
   ],
   "execution_count": 4
  },
  {
   "metadata": {},
   "cell_type": "markdown",
   "source": "## 提取特征的CNN模块",
   "id": "6195e7d106d16664"
  },
  {
   "metadata": {
    "ExecuteTime": {
     "end_time": "2024-07-10T07:49:56.576310Z",
     "start_time": "2024-07-10T07:49:56.563739Z"
    }
   },
   "cell_type": "code",
   "source": [
    "class Restormer_CNN_block(nn.Module):\n",
    "    def __init__(self, in_dim, out_dim):\n",
    "        super(Restormer_CNN_block, self).__init__()\n",
    "        self.embed = nn.Conv2d(in_dim, out_dim, kernel_size=3, stride=1, padding=1, bias=False, padding_mode=\"reflect\")\n",
    "        self.GlobalFeature = GlobalFeatureExtraction(dim=out_dim, num_heads=8)\n",
    "        self.LocalFeature = LocalFeatureExtraction(dim=out_dim)\n",
    "        self.FFN = nn.Conv2d(out_dim * 2, out_dim, kernel_size=3, stride=1, padding=1, bias=False,\n",
    "                             padding_mode=\"reflect\")\n",
    "\n",
    "    def forward(self, x):\n",
    "        x = self.embed(x)\n",
    "        x1 = self.GlobalFeature(x)\n",
    "        x2 = self.LocalFeature(x)\n",
    "        out = self.FFN(torch.cat((x1, x2), 1))\n",
    "        return out"
   ],
   "id": "62487680e66428e0",
   "outputs": [],
   "execution_count": 5
  },
  {
   "metadata": {
    "ExecuteTime": {
     "end_time": "2024-07-10T07:51:17.584007Z",
     "start_time": "2024-07-10T07:51:17.502054Z"
    }
   },
   "cell_type": "code",
   "source": [
    "import torch\n",
    "\n",
    "# 定义输入张量，形状为 (batch_size, in_dim, height, width)\n",
    "input_tensor = torch.randn(1, 3, 32, 32)  # 假设输入是一个 32x32 的 RGB 图像\n",
    "\n",
    "# 实例化 Restormer_CNN_block 模块\n",
    "restormer_block = Restormer_CNN_block(in_dim=3, out_dim=64)\n",
    "\n",
    "# 前向传播\n",
    "output_tensor = restormer_block(input_tensor)\n",
    "\n",
    "print(output_tensor.shape)  # 输出张量的形状\n"
   ],
   "id": "1b7690a2c20011c3",
   "outputs": [
    {
     "name": "stdout",
     "output_type": "stream",
     "text": [
      "torch.Size([1, 64, 32, 32])\n"
     ]
    }
   ],
   "execution_count": 8
  },
  {
   "metadata": {},
   "cell_type": "code",
   "outputs": [],
   "execution_count": null,
   "source": "",
   "id": "baee9ee42ae1b91b"
  }
 ],
 "metadata": {
  "kernelspec": {
   "display_name": "Python 3",
   "language": "python",
   "name": "python3"
  },
  "language_info": {
   "codemirror_mode": {
    "name": "ipython",
    "version": 2
   },
   "file_extension": ".py",
   "mimetype": "text/x-python",
   "name": "python",
   "nbconvert_exporter": "python",
   "pygments_lexer": "ipython2",
   "version": "2.7.6"
  }
 },
 "nbformat": 4,
 "nbformat_minor": 5
}
