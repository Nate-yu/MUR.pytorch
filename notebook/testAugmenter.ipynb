{
 "cells": [
  {
   "cell_type": "code",
   "id": "initial_id",
   "metadata": {
    "collapsed": true,
    "ExecuteTime": {
     "end_time": "2024-06-18T13:45:29.520036Z",
     "start_time": "2024-06-18T13:45:27.063740Z"
    }
   },
   "source": [
    "from pygments.lexers import configs\n",
    "\n",
    "from models.compositors import transformer_factory\n",
    "from models.image_encoders import image_encoder_factory\n",
    "from models.text_encoders import text_encoder_factory\n",
    "from models.augmenter import augmenter_factory\n",
    "from utils.mixins import GradientControlDataParallel\n",
    "import torch\n",
    "\n",
    "def create_models(configs, vocabulary):\n",
    "    text_encoder, text_fc = text_encoder_factory(vocabulary, config=configs)\n",
    "    lower_img_encoder, upper_img_encoder = image_encoder_factory(config=configs)\n",
    "\n",
    "    layer_shapes = lower_img_encoder.layer_shapes()\n",
    "    compositors = transformer_factory({'layer4': layer_shapes['layer4'],\n",
    "                                       'image_feature_size': upper_img_encoder.feature_size,\n",
    "                                       'text_feature_size': text_encoder.feature_size}, configs=configs)\n",
    "    augmenter = augmenter_factory(config=configs)\n",
    "\n",
    "    models = {\n",
    "        'text_encoder': text_encoder,\n",
    "        'lower_image_encoder': lower_img_encoder,\n",
    "        'upper_image_encoder': upper_img_encoder,\n",
    "    }\n",
    "    if text_fc != None:\n",
    "        models['text_fc'] = text_fc\n",
    "    if augmenter != None:\n",
    "        models['augmenter'] = augmenter\n",
    "    models.update(compositors)\n",
    "\n",
    "    if configs['num_gpu'] > 1:\n",
    "        for name, model in models.items():\n",
    "            models[name] = GradientControlDataParallel(model.cuda())\n",
    "\n",
    "    return models\n"
   ],
   "outputs": [],
   "execution_count": 1
  },
  {
   "metadata": {
    "ExecuteTime": {
     "end_time": "2024-06-18T13:46:41.527992Z",
     "start_time": "2024-06-18T13:46:40.910602Z"
    }
   },
   "cell_type": "code",
   "source": [
    "from data import DEFAULT_VOCAB_PATHS, create_dataloaders\n",
    "from evaluators import get_evaluator_cls\n",
    "from language import vocabulary_factory\n",
    "from loggers.file_loggers import BestModelTracker\n",
    "from loggers.wandb_loggers import WandbSimplePrinter, WandbSummaryPrinter\n",
    "from losses import loss_factory\n",
    "from models import create_models\n",
    "from optimizers import create_optimizers, create_lr_schedulers\n",
    "from options import get_experiment_config\n",
    "from set_up import setup_experiment\n",
    "from trainers import get_trainer_cls\n",
    "from transforms import image_transform_factory, text_transform_factory"
   ],
   "id": "41144a2b9be50837",
   "outputs": [],
   "execution_count": 3
  },
  {
   "metadata": {
    "ExecuteTime": {
     "end_time": "2024-06-18T13:47:28.047660Z",
     "start_time": "2024-06-18T13:47:28.030631Z"
    }
   },
   "cell_type": "code",
   "source": [
    "configs = get_experiment_config()\n",
    "vocabulary = vocabulary_factory(config={\n",
    "        'vocab_path': configs['vocab_path'] if configs['vocab_path'] else DEFAULT_VOCAB_PATHS[configs['dataset']],\n",
    "        'vocab_threshold': configs['vocab_threshold']\n",
    "    })\n",
    "\n"
   ],
   "id": "ea086c1c4214ef5a",
   "outputs": [
    {
     "name": "stderr",
     "output_type": "stream",
     "text": [
      "usage: ipykernel_launcher.py [-h] [--config_path CONFIG_PATH]\n",
      "                             [--trainer TRAINER] [--epoch EPOCH]\n",
      "                             [--evaluator EVALUATOR] [--vocab_path VOCAB_PATH]\n",
      "                             [--vocab_threshold VOCAB_THRESHOLD]\n",
      "                             [--dataset DATASET] [--batch_size BATCH_SIZE]\n",
      "                             [--num_workers NUM_WORKERS] [--shuffle SHUFFLE]\n",
      "                             [--use_transform USE_TRANSFORM]\n",
      "                             [--img_size IMG_SIZE] [--metric_loss METRIC_LOSS]\n",
      "                             [--gamma_scale GAMMA_SCALE]\n",
      "                             [--feature_size FEATURE_SIZE]\n",
      "                             [--text_feature_size TEXT_FEATURE_SIZE]\n",
      "                             [--word_embedding_size WORD_EMBEDDING_SIZE]\n",
      "                             [--image_encoder IMAGE_ENCODER] [--stride STRIDE]\n",
      "                             [--text_encoder TEXT_ENCODER]\n",
      "                             [--compositor COMPOSITOR]\n",
      "                             [--norm_scale NORM_SCALE] [--num_heads NUM_HEADS]\n",
      "                             [--global_styler GLOBAL_STYLER]\n",
      "                             [--augmenter AUGMENTER]\n",
      "                             [--alpha_scale ALPHA_SCALE]\n",
      "                             [--beta_scale BETA_SCALE]\n",
      "                             [--optimizer {SGD,Adam,RAdam}] [--lr LR]\n",
      "                             [--weight_decay WEIGHT_DECAY]\n",
      "                             [--momentum MOMENTUM]\n",
      "                             [--warmup_iters WARMUP_ITERS]\n",
      "                             [--decay_step DECAY_STEP]\n",
      "                             [--decay_step_second DECAY_STEP_SECOND]\n",
      "                             [--gamma GAMMA] [--lr_scheduler LR_SCHEDULER]\n",
      "                             [--topk TOPK]\n",
      "                             [--wandb_project_name WANDB_PROJECT_NAME]\n",
      "                             [--wandb_account_name WANDB_ACCOUNT_NAME]\n",
      "                             [--checkpoint_path CHECKPOINT_PATH]\n",
      "                             [--device_idx DEVICE_IDX]\n",
      "                             [--random_seed RANDOM_SEED]\n",
      "                             [--experiment_dir EXPERIMENT_DIR]\n",
      "                             [--experiment_description EXPERIMENT_DESCRIPTION]\n",
      "ipykernel_launcher.py: error: unrecognized arguments: -f C:\\Users\\12279\\AppData\\Roaming\\jupyter\\runtime\\kernel-f4920195-a2d0-48db-b0c0-e0d294b22171.json\n"
     ]
    },
    {
     "ename": "SystemExit",
     "evalue": "2",
     "output_type": "error",
     "traceback": [
      "An exception has occurred, use %tb to see the full traceback.\n",
      "\u001B[1;31mSystemExit\u001B[0m\u001B[1;31m:\u001B[0m 2\n"
     ]
    },
    {
     "name": "stderr",
     "output_type": "stream",
     "text": [
      "D:\\IDE\\Miniconda\\envs\\cv\\lib\\site-packages\\IPython\\core\\interactiveshell.py:3516: UserWarning: To exit: use 'exit', 'quit', or Ctrl-D.\n",
      "  warn(\"To exit: use 'exit', 'quit', or Ctrl-D.\", stacklevel=1)\n"
     ]
    }
   ],
   "execution_count": 6
  },
  {
   "metadata": {
    "ExecuteTime": {
     "end_time": "2024-06-18T13:47:00.436376Z",
     "start_time": "2024-06-18T13:46:59.037831Z"
    }
   },
   "cell_type": "code",
   "source": "models = create_models(configs, vocabulary)",
   "id": "7a662b05daf45972",
   "outputs": [
    {
     "ename": "NameError",
     "evalue": "name 'configs' is not defined",
     "output_type": "error",
     "traceback": [
      "\u001B[1;31m---------------------------------------------------------------------------\u001B[0m",
      "\u001B[1;31mNameError\u001B[0m                                 Traceback (most recent call last)",
      "Cell \u001B[1;32mIn[4], line 1\u001B[0m\n\u001B[1;32m----> 1\u001B[0m models \u001B[38;5;241m=\u001B[39m create_models(\u001B[43mconfigs\u001B[49m, vocabulary)\n",
      "\u001B[1;31mNameError\u001B[0m: name 'configs' is not defined"
     ]
    }
   ],
   "execution_count": 4
  },
  {
   "metadata": {},
   "cell_type": "code",
   "outputs": [],
   "execution_count": null,
   "source": "",
   "id": "fbe23a00c72d461e"
  }
 ],
 "metadata": {
  "kernelspec": {
   "display_name": "Python 3",
   "language": "python",
   "name": "python3"
  },
  "language_info": {
   "codemirror_mode": {
    "name": "ipython",
    "version": 2
   },
   "file_extension": ".py",
   "mimetype": "text/x-python",
   "name": "python",
   "nbconvert_exporter": "python",
   "pygments_lexer": "ipython2",
   "version": "2.7.6"
  }
 },
 "nbformat": 4,
 "nbformat_minor": 5
}
